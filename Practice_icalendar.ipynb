{
 "cells": [
  {
   "cell_type": "code",
   "execution_count": 1,
   "metadata": {},
   "outputs": [],
   "source": [
    "import icalendar\n",
    "from icalendar import Calendar, Event"
   ]
  },
  {
   "cell_type": "code",
   "execution_count": 2,
   "metadata": {},
   "outputs": [
    {
     "name": "stdout",
     "output_type": "stream",
     "text": [
      "DTSTART 20050404T080000\n",
      "SUMMARY Sick Stuff\n"
     ]
    },
    {
     "data": {
      "text/plain": [
       "b'BEGIN:VCALENDAR\\r\\nDTSTART:20050404T080000\\r\\nSUMMARY:Sick Stuff\\r\\nEND:VCALENDAR\\r\\n'"
      ]
     },
     "execution_count": 2,
     "metadata": {},
     "output_type": "execute_result"
    }
   ],
   "source": [
    "cal = Calendar()\n",
    "cal['dtstart'] = '20050404T080000' #WHAT formating is needed\n",
    "cal['summary'] = 'Sick Stuff'\n",
    "for k,v in cal.items():\n",
    "   print(k,v)\n",
    "cal.to_ical() #This is encoded as a byte stream (see b infront of '') convert with .encode"
   ]
  },
  {
   "cell_type": "code",
   "execution_count": 3,
   "metadata": {},
   "outputs": [],
   "source": [
    "def display(cal):\n",
    "    return cal.to_ical().decode('utf-8').replace('\\r\\n', '\\n').strip()"
   ]
  },
  {
   "cell_type": "code",
   "execution_count": 4,
   "metadata": {},
   "outputs": [
    {
     "name": "stdout",
     "output_type": "stream",
     "text": [
      "BEGIN:VCALENDAR\n",
      "ATTENDEE:MAILTO:maxm@mxm.dk\n",
      "ATTENDEE:MAILTO:test@example.com\n",
      "END:VCALENDAR\n"
     ]
    }
   ],
   "source": [
    "cal = Calendar()\n",
    "cal['attendee'] = ['MAILTO:maxm@mxm.dk','MAILTO:test@example.com']\n",
    "print(display(cal))"
   ]
  },
  {
   "cell_type": "code",
   "execution_count": 5,
   "metadata": {},
   "outputs": [
    {
     "name": "stdout",
     "output_type": "stream",
     "text": [
      "BEGIN:VCALENDAR\n",
      "ATTENDEE:MAILTO:maxm@mxm.dk\n",
      "ATTENDEE:MAILTO:test@example.com\n",
      "END:VCALENDAR\n"
     ]
    }
   ],
   "source": [
    "cal = Calendar()\n",
    "cal.add('attendee', 'MAILTO:maxm@mxm.dk')\n",
    "cal.add('attendee', 'MAILTO:test@example.com')\n",
    "print(display(cal))\n"
   ]
  },
  {
   "cell_type": "code",
   "execution_count": 6,
   "metadata": {},
   "outputs": [],
   "source": [
    "event = Event()\n",
    "event['uid'] = '42'\n",
    "event['dtstart'] = '20050404T080000'\n",
    "event2 = Event()\n",
    "event2['uid'] = '421'\n",
    "event2['dtstart'] = '20050404T080000'"
   ]
  },
  {
   "cell_type": "code",
   "execution_count": 7,
   "metadata": {},
   "outputs": [
    {
     "name": "stdout",
     "output_type": "stream",
     "text": [
      "BEGIN:VCALENDAR\n",
      "ATTENDEE:MAILTO:maxm@mxm.dk\n",
      "ATTENDEE:MAILTO:test@example.com\n",
      "BEGIN:VEVENT\n",
      "DTSTART:20050404T080000\n",
      "UID:42\n",
      "END:VEVENT\n",
      "BEGIN:VEVENT\n",
      "DTSTART:20050404T080000\n",
      "UID:421\n",
      "END:VEVENT\n",
      "END:VCALENDAR\n"
     ]
    }
   ],
   "source": [
    "cal.add_component(event)\n",
    "cal.add_component(event2) #If you dont restart jupyter it will keep adding events to the same cal\n",
    "print(display(cal))"
   ]
  },
  {
   "cell_type": "code",
   "execution_count": 8,
   "metadata": {},
   "outputs": [
    {
     "data": {
      "text/plain": [
       "[VEVENT({'UID': '42', 'DTSTART': '20050404T080000'}),\n",
       " VEVENT({'UID': '421', 'DTSTART': '20050404T080000'})]"
      ]
     },
     "execution_count": 8,
     "metadata": {},
     "output_type": "execute_result"
    }
   ],
   "source": [
    "cal.subcomponents"
   ]
  },
  {
   "cell_type": "code",
   "execution_count": 9,
   "metadata": {},
   "outputs": [
    {
     "data": {
      "text/plain": [
       "datetime.datetime(2005, 4, 4, 8, 0)"
      ]
     },
     "execution_count": 9,
     "metadata": {},
     "output_type": "execute_result"
    }
   ],
   "source": [
    "from datetime import datetime #alternativly use from icalendar import vDatetime (all value types that are used in ics are defined in icalendar)\n",
    "cal.add('dtstart', datetime(2005,4,4,8,0,0))\n",
    "cal['dtstart'].to_ical()\n",
    "\n",
    "cal.decoded('dtstart')"
   ]
  },
  {
   "cell_type": "code",
   "execution_count": 12,
   "metadata": {},
   "outputs": [],
   "source": [
    "import pytz #used for time\n",
    "from icalendar import vText #used for formating since some arent automagivcally encoded \n",
    "cal = Calendar()\n",
    "cal.add('prodid', '-//LOL//') #required\n",
    "cal.add('version', '2.0') #required\n",
    "\n",
    "event = Event()\n",
    "event.add('summary','A random meeting')\n",
    "event['uid'] = 'LOL' #needs to be unique and is needed\n",
    "event.add('dtstart', datetime(2005,4,4,8,0,0,tzinfo=pytz.utc)) #tzinfo=pytz.utc adds metadata for timezone\n",
    "event.add('dtend', datetime(2005,4,4,10,0,0,tzinfo=pytz.utc))\n",
    "event.add('dtstamp', datetime(2005,4,4,0,10,0,tzinfo=pytz.utc))\n",
    "event['location'] = vText('Oh no, Somewhere')\n",
    "\n",
    "cal.add_component(event)\n"
   ]
  },
  {
   "cell_type": "code",
   "execution_count": 11,
   "metadata": {},
   "outputs": [],
   "source": [
    "import tempfile, os\n",
    "directory = tempfile.mkdtemp()# or add ur own dir like: 'C:/example/'\n",
    "f = open(os.path.join(directory, 'MYFILEYEEEEEEEEEE.ics'), 'wb') #(filename,mode) wb indicates that the file is opened in binary mode since its a binary file\n",
    "f.write(cal.to_ical())\n",
    "f.close()"
   ]
  },
  {
   "cell_type": "code",
   "execution_count": null,
   "metadata": {},
   "outputs": [],
   "source": []
  }
 ],
 "metadata": {
  "kernelspec": {
   "display_name": "Python 3",
   "language": "python",
   "name": "python3"
  },
  "language_info": {
   "codemirror_mode": {
    "name": "ipython",
    "version": 3
   },
   "file_extension": ".py",
   "mimetype": "text/x-python",
   "name": "python",
   "nbconvert_exporter": "python",
   "pygments_lexer": "ipython3",
   "version": "3.6.7"
  }
 },
 "nbformat": 4,
 "nbformat_minor": 2
}
